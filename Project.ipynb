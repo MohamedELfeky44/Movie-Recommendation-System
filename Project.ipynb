{
 "cells": [
  {
   "cell_type": "markdown",
   "id": "da13075b",
   "metadata": {},
   "source": [
    "# Movie Recommendation System"
   ]
  },
  {
   "cell_type": "markdown",
   "id": "b4f96c0d",
   "metadata": {},
   "source": [
    "In this notebook i will try to implement recommendation algorithm (content based filtering) and i will aslo attempt at giving some insights about the data. With us we have TMDb movie dataset :\n",
    "    This data set contains information\n",
    "    about 10,000 movies collected from\n",
    "    The Movie Database (TMDb),\n",
    "    including user ratings and revenue.\n",
    "    \n",
    "   \n",
    "    ● The dataset contains full credits \n",
    "    for both the cast and the crew,\n",
    "    rather than just the first three actors.\n",
    "    \n",
    "    ●Actor and actresses are now listed in\n",
    "    the order they appear in the credits.\n",
    "    \n",
    "    ● The revenues appear to be more current.\n",
    "    For example, IMDB's figures for Avatar \n",
    "    seem to be from 2010 and understate the \n",
    "    film's global revenues by over $2 billion.\n",
    "    \n",
    "    \n"
   ]
  },
  {
   "cell_type": "code",
   "execution_count": null,
   "id": "75977719",
   "metadata": {},
   "outputs": [],
   "source": []
  }
 ],
 "metadata": {
  "kernelspec": {
   "display_name": "Python 3 (ipykernel)",
   "language": "python",
   "name": "python3"
  },
  "language_info": {
   "codemirror_mode": {
    "name": "ipython",
    "version": 3
   },
   "file_extension": ".py",
   "mimetype": "text/x-python",
   "name": "python",
   "nbconvert_exporter": "python",
   "pygments_lexer": "ipython3",
   "version": "3.9.7"
  }
 },
 "nbformat": 4,
 "nbformat_minor": 5
}
